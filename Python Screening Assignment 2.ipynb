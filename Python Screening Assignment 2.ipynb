{
 "cells": [
  {
   "cell_type": "code",
   "execution_count": 1,
   "metadata": {},
   "outputs": [],
   "source": [
    "with open('example.txt', \"w\") as f:\n",
    "    f.write(\"This is a placement assignment\")\n",
    "    f.close()"
   ]
  },
  {
   "cell_type": "code",
   "execution_count": 2,
   "metadata": {},
   "outputs": [],
   "source": [
    "def replace_string(file):\n",
    "    file = open(file, 'r')\n",
    "    file = file.read()\n",
    "    file = file.replace('placement', 'screening')\n",
    "    print(file)"
   ]
  },
  {
   "cell_type": "code",
   "execution_count": 3,
   "metadata": {},
   "outputs": [
    {
     "name": "stdout",
     "output_type": "stream",
     "text": [
      "This is a screening assignment\n"
     ]
    }
   ],
   "source": [
    "replace_string('example.txt')"
   ]
  },
  {
   "cell_type": "markdown",
   "metadata": {},
   "source": [
    "# Decorators"
   ]
  },
  {
   "cell_type": "code",
   "execution_count": null,
   "metadata": {},
   "outputs": [],
   "source": [
    "We use a decorator when you need to change the behavior of a function without modifying the function itself. A few good examples are when you want to add logging, test performance, perform caching, verify permissions, and so on. You can also use one when you need to run the same code on multiple functions"
   ]
  },
  {
   "cell_type": "code",
   "execution_count": 4,
   "metadata": {},
   "outputs": [],
   "source": [
    "def main_welcome(func):\n",
    "    \n",
    "    def sub_welcome_class():\n",
    "        print(\"Welcome to iNeuron Class\")\n",
    "        func()\n",
    "        print(\"This is Python Class\")\n",
    "    return sub_welcome_class()"
   ]
  },
  {
   "cell_type": "code",
   "execution_count": 5,
   "metadata": {},
   "outputs": [
    {
     "name": "stdout",
     "output_type": "stream",
     "text": [
      "Welcome to iNeuron Class\n",
      "This is iNeuron python Class\n",
      "This is Python Class\n"
     ]
    }
   ],
   "source": [
    "@main_welcome\n",
    "def class_name():\n",
    "    print(\"This is iNeuron python Class\")"
   ]
  },
  {
   "cell_type": "markdown",
   "metadata": {},
   "source": [
    "# Multiple Inheritance"
   ]
  },
  {
   "cell_type": "code",
   "execution_count": null,
   "metadata": {},
   "outputs": [],
   "source": [
    "# Multiple Inheritance using two classes:\n",
    "\n",
    "class Father():\n",
    "    def Driving(self):\n",
    "        print(\"Father Enjoys Driving\")\n",
    "class Mother():\n",
    "    def Cooking(self):\n",
    "        print(\"Mother Enjoys Cooking\")\n",
    "class Child(Father, Mother):\n",
    "    def Playing(self):\n",
    "        print(\"Child Loves Playing\")\n",
    "c = Child()\n",
    "c.Driving()\n",
    "c.Cooking()\n",
    "c.Playing()"
   ]
  },
  {
   "cell_type": "markdown",
   "metadata": {},
   "source": [
    "# Abstraction"
   ]
  },
  {
   "cell_type": "code",
   "execution_count": 6,
   "metadata": {},
   "outputs": [],
   "source": [
    "from abc import ABC, abstractmethod"
   ]
  },
  {
   "cell_type": "code",
   "execution_count": 7,
   "metadata": {},
   "outputs": [],
   "source": [
    "class car(ABC):\n",
    "    def mileage(self):\n",
    "        pass\n",
    "    \n",
    "class Tiago(car):\n",
    "    def mileage(self):\n",
    "        print(\"The milege is 25 kmph\")\n",
    "        \n",
    "class Alto(car):\n",
    "    def mileage(self):\n",
    "        print(\"The milege is 30 kmph\")\n",
    "        \n",
    "class Altros(car):\n",
    "    def mileage(self):\n",
    "        print(\"The milege is 25 kmph\")\n",
    "        \n",
    "class Fortuner(car):\n",
    "    def mileage(self):\n",
    "        print(\"The milege is 11 kmph\")"
   ]
  },
  {
   "cell_type": "code",
   "execution_count": 8,
   "metadata": {},
   "outputs": [
    {
     "name": "stdout",
     "output_type": "stream",
     "text": [
      "The milege is 25 kmph\n",
      "The milege is 30 kmph\n",
      "The milege is 25 kmph\n",
      "The milege is 11 kmph\n"
     ]
    }
   ],
   "source": [
    "t= Tiago()   \n",
    "t.mileage()   \n",
    "  \n",
    "a = Alto()   \n",
    "a.mileage()   \n",
    "  \n",
    "a1 = Altros()   \n",
    "a1.mileage() \n",
    "\n",
    "f = Fortuner()   \n",
    "f.mileage()  "
   ]
  },
  {
   "cell_type": "markdown",
   "metadata": {},
   "source": [
    "An abstract class can be considered as a blueprint for other classes. \n",
    "It allows you to create a set of methods that must be created within any child classes built from the abstract class. \n",
    "A class which contains one or more abstract methods is called an abstract class. \n",
    "An abstract method is a method that has a declaration but does not have an implementation.\n",
    "\n",
    "When to use abstraction class? \n",
    "\n",
    "While we are designing large functional units we use an abstract class.\n",
    "When we want to provide a common interface for different implementations of a component, we use an abstract class."
   ]
  },
  {
   "cell_type": "code",
   "execution_count": null,
   "metadata": {},
   "outputs": [],
   "source": []
  }
 ],
 "metadata": {
  "kernelspec": {
   "display_name": "Python 3",
   "language": "python",
   "name": "python3"
  },
  "language_info": {
   "codemirror_mode": {
    "name": "ipython",
    "version": 3
   },
   "file_extension": ".py",
   "mimetype": "text/x-python",
   "name": "python",
   "nbconvert_exporter": "python",
   "pygments_lexer": "ipython3",
   "version": "3.7.4"
  }
 },
 "nbformat": 4,
 "nbformat_minor": 2
}
