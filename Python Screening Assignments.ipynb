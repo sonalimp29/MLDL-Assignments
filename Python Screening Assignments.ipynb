{
 "cells": [
  {
   "cell_type": "code",
   "execution_count": null,
   "metadata": {},
   "outputs": [],
   "source": []
  },
  {
   "cell_type": "markdown",
   "metadata": {},
   "source": [
    "2. Demonstrate use of abstract class, multiple inheritance and decorator in python using examples."
   ]
  },
  {
   "cell_type": "markdown",
   "metadata": {},
   "source": [
    "# ABSTRACTION CLASS"
   ]
  },
  {
   "cell_type": "markdown",
   "metadata": {},
   "source": [
    "An abstract class can be considered as a blueprint for other classes. \n",
    "It allows you to create a set of methods that must be created within any child classes built from the abstract class. \n",
    "A class which contains one or more abstract methods is called an abstract class. \n",
    "An abstract method is a method that has a declaration but does not have an implementation. \n",
    "When to use abstraction class?\n",
    "While we are designing large functional units we use an abstract class. \n",
    "When we want to provide a common interface for different implementations of a component, we use an abstract class. "
   ]
  },
  {
   "cell_type": "code",
   "execution_count": null,
   "metadata": {},
   "outputs": [],
   "source": [
    "Demonstration:"
   ]
  },
  {
   "cell_type": "code",
   "execution_count": 1,
   "metadata": {},
   "outputs": [
    {
     "name": "stdout",
     "output_type": "stream",
     "text": [
      "I have 3 sides\n",
      "I have 4 sides\n",
      "I have 5 sides\n",
      "I have 6 sides\n"
     ]
    }
   ],
   "source": [
    "# Python program showing\n",
    "# abstract base class work\n",
    " \n",
    "from abc import ABC, abstractmethod\n",
    " \n",
    "class Polygon(ABC):\n",
    " \n",
    "    @abstractmethod\n",
    "    def noofsides(self):\n",
    "        pass\n",
    " \n",
    "class Triangle(Polygon):\n",
    " \n",
    "    # overriding abstract method\n",
    "    def noofsides(self):\n",
    "        print(\"I have 3 sides\")\n",
    " \n",
    "class Pentagon(Polygon):\n",
    " \n",
    "    # overriding abstract method\n",
    "    def noofsides(self):\n",
    "        print(\"I have 5 sides\")\n",
    " \n",
    "class Hexagon(Polygon):\n",
    " \n",
    "    # overriding abstract method\n",
    "    def noofsides(self):\n",
    "        print(\"I have 6 sides\")\n",
    " \n",
    "class Quadrilateral(Polygon):\n",
    " \n",
    "    # overriding abstract method\n",
    "    def noofsides(self):\n",
    "        print(\"I have 4 sides\")\n",
    " \n",
    "# Driver code\n",
    "R = Triangle()\n",
    "R.noofsides()\n",
    " \n",
    "K = Quadrilateral()\n",
    "K.noofsides()\n",
    " \n",
    "R = Pentagon()\n",
    "R.noofsides()\n",
    " \n",
    "K = Hexagon()\n",
    "K.noofsides()"
   ]
  },
  {
   "cell_type": "markdown",
   "metadata": {},
   "source": [
    "# MULTIPLE INHERITANCE"
   ]
  },
  {
   "cell_type": "markdown",
   "metadata": {},
   "source": [
    "Inheritance allows us to define a class that inherits all the methods and properties from another class. \n",
    "The Parent class is the class being inherited from, also called base class. \n",
    "The Child class is the class that inherits from another class, also called derived class.\n",
    "\n",
    "Types of Inheritance:\n",
    "\n",
    "    1.Single Inheritance\n",
    "    2.Multi-level Inheritance\n",
    "    3.Multiple Inheritance\n",
    "    4.Multipath Inheritance\n",
    "    5.Hierarchical Inheritance\n",
    "    6.Hybrid Inheritance\n"
   ]
  },
  {
   "cell_type": "markdown",
   "metadata": {},
   "source": [
    "Multiple inheritance is a feature of some object-oriented computer programming languages in which an object\n",
    "or class can inherit characteristics and features from more than one parent object or the parent class ."
   ]
  },
  {
   "cell_type": "code",
   "execution_count": 3,
   "metadata": {},
   "outputs": [
    {
     "name": "stdout",
     "output_type": "stream",
     "text": [
      "Father Enjoys Driving\n",
      "Mother Enjoys Cooking\n",
      "Child Loves Playing\n"
     ]
    }
   ],
   "source": [
    "# Multiple Inheritance using two classes:\n",
    "\n",
    "class Father():\n",
    "    def Driving(self):\n",
    "        print(\"Father Enjoys Driving\")\n",
    "class Mother():\n",
    "    def Cooking(self):\n",
    "        print(\"Mother Enjoys Cooking\")\n",
    "class Child(Father, Mother):\n",
    "    def Playing(self):\n",
    "        print(\"Child Loves Playing\")\n",
    "c = Child()\n",
    "c.Driving()\n",
    "c.Cooking()\n",
    "c.Playing()"
   ]
  },
  {
   "cell_type": "markdown",
   "metadata": {},
   "source": [
    "Here, the father and Mother are the Base classes where we have two print statements and a child class that contains all the methods of the father and mother class.\n",
    "The child class is also known as Derived class.\n",
    "We are creating the object for the child class through which we can access the functions of father, mother, and child."
   ]
  },
  {
   "cell_type": "markdown",
   "metadata": {},
   "source": [
    "# DECORATORS IN PYTHON"
   ]
  },
  {
   "cell_type": "markdown",
   "metadata": {},
   "source": [
    "We use a decorator when you need to change the behavior of a function without modifying the function itself.\n",
    "A few good examples are when you want to add logging, test performance, perform caching, verify permissions, and so on. \n",
    "You can also use one when you need to run the same code on multiple functions"
   ]
  },
  {
   "cell_type": "markdown",
   "metadata": {},
   "source": [
    "I have created a decorator that will measure memory and speed of a function.\n",
    "We'll use the decorator to test the performance list generation using four methods:\n",
    "range, list comprehension, append, and concatenation."
   ]
  },
  {
   "cell_type": "code",
   "execution_count": 4,
   "metadata": {},
   "outputs": [
    {
     "name": "stdout",
     "output_type": "stream",
     "text": [
      "Function: make_list1\n",
      "Method: Range\n",
      "Memory usage:\t\t 0.000223 MB \n",
      "Peak memory usage:\t 3.693243 MB \n",
      "Time elapsed is seconds: 0.087331\n",
      "----------------------------------------\n",
      "None\n",
      "Function: make_list2\n",
      "Method: List comprehension\n",
      "Memory usage:\t\t 0.149167 MB \n",
      "Peak memory usage:\t 3.766539 MB \n",
      "Time elapsed is seconds: 0.105279\n",
      "----------------------------------------\n",
      "None\n",
      "Function: make_list3\n",
      "Method: Append\n",
      "Memory usage:\t\t 0.002815 MB \n",
      "Peak memory usage:\t 3.662267 MB \n",
      "Time elapsed is seconds: 0.134346\n",
      "----------------------------------------\n",
      "None\n",
      "Function: make_list4\n",
      "Method: Concatenation\n",
      "Memory usage:\t\t 0.148253 MB \n",
      "Peak memory usage:\t 4.541089 MB \n",
      "Time elapsed is seconds: 38.201139\n",
      "----------------------------------------\n",
      "None\n"
     ]
    }
   ],
   "source": [
    "from functools import wraps\n",
    "import tracemalloc\n",
    "from time import perf_counter \n",
    "\n",
    "\n",
    "def measure_performance(func):\n",
    "    '''Measure performance of a function'''\n",
    "\n",
    "    @wraps(func)\n",
    "    def wrapper(*args, **kwargs):\n",
    "        tracemalloc.start()\n",
    "        start_time = perf_counter()\n",
    "        func(*args, **kwargs)\n",
    "        current, peak = tracemalloc.get_traced_memory()\n",
    "        finish_time = perf_counter()\n",
    "        print(f'Function: {func.__name__}')\n",
    "        print(f'Method: {func.__doc__}')\n",
    "        print(f'Memory usage:\\t\\t {current / 10**6:.6f} MB \\n'\n",
    "              f'Peak memory usage:\\t {peak / 10**6:.6f} MB ')\n",
    "        print(f'Time elapsed is seconds: {finish_time - start_time:.6f}')\n",
    "        print(f'{\"-\"*40}')\n",
    "        tracemalloc.stop()\n",
    "    return wrapper\n",
    "\n",
    "\n",
    "@measure_performance\n",
    "def make_list1():\n",
    "    '''Range'''\n",
    "\n",
    "    my_list = list(range(100000))\n",
    "\n",
    "\n",
    "@measure_performance\n",
    "def make_list2():\n",
    "    '''List comprehension'''\n",
    "\n",
    "    my_list = [l for l in range(100000)]\n",
    "\n",
    "\n",
    "@measure_performance\n",
    "def make_list3():\n",
    "    '''Append'''\n",
    "\n",
    "    my_list = []\n",
    "    for item in range(100000):\n",
    "        my_list.append(item)\n",
    "\n",
    "\n",
    "@measure_performance\n",
    "def make_list4():\n",
    "    '''Concatenation'''\n",
    "\n",
    "    my_list = []\n",
    "    for item in range(100000):\n",
    "        my_list = my_list + [item]\n",
    "\n",
    "\n",
    "print(make_list1())\n",
    "print(make_list2())\n",
    "print(make_list3())\n",
    "print(make_list4())\n"
   ]
  },
  {
   "cell_type": "code",
   "execution_count": null,
   "metadata": {},
   "outputs": [],
   "source": []
  },
  {
   "cell_type": "markdown",
   "metadata": {},
   "source": [
    "1. Create a function in python to read the text file and replace specific content of the file."
   ]
  },
  {
   "cell_type": "code",
   "execution_count": 7,
   "metadata": {},
   "outputs": [
    {
     "name": "stdout",
     "output_type": "stream",
     "text": [
      "enter text to be replaced:This is a placement assignment\n",
      "enter text that will replace:This is a screening assignment\n",
      "Text successfully replaced\n"
     ]
    }
   ],
   "source": [
    "# Python program to replace text in a file\n",
    "x = input(\"enter text to be replaced:\")\n",
    "y = input(\"enter text that will replace:\")\n",
    " \n",
    "# file.txt should be replaced with\n",
    "# the actual text file name\n",
    "f = open(\"example.txt\", \"r+\")\n",
    " \n",
    "# each sentence becomes an element in the list l\n",
    "l = f.readlines()\n",
    " \n",
    "# acts as a counter to know the\n",
    "# index of the element to be replaced\n",
    "c = 0\n",
    "for i in l:\n",
    "    if x in i:\n",
    " \n",
    "        # Replacement carries the value\n",
    "        # of the text to be replaced\n",
    "        Replacement = i.replace(x, y)\n",
    " \n",
    "        # changes are made in the list\n",
    "        l = Replacement\n",
    "    c += 1\n",
    " \n",
    "# The pre existing text in the file is erased\n",
    "f.truncate(0)\n",
    " \n",
    "# the modified list is written into\n",
    "# the file thereby replacing the old text\n",
    "f.writelines(l)\n",
    "f.close()\n",
    "print(\"Text successfully replaced\")"
   ]
  },
  {
   "cell_type": "code",
   "execution_count": 10,
   "metadata": {},
   "outputs": [],
   "source": [
    "def filereplace():\n",
    "    # Python program to replace text in a file\n",
    "    x = input(\"enter text to be replaced:\")\n",
    "    y = input(\"enter text that will replace:\")\n",
    "\n",
    "    # file.txt should be replaced with\n",
    "    # the actual text file name\n",
    "    f = open(\"file.txt\", \"r+\")\n",
    "\n",
    "    # each sentence becomes an element in the list l\n",
    "    l = f.readlines()\n",
    "\n",
    "    # acts as a counter to know the\n",
    "    # index of the element to be replaced\n",
    "    c = 0\n",
    "    for i in l:\n",
    "        if x in i:\n",
    "\n",
    "            # Replacement carries the value\n",
    "            # of the text to be replaced\n",
    "            Replacement = i.replace(x, y)\n",
    "\n",
    "            # changes are made in the list\n",
    "            l = Replacement\n",
    "        c += 1\n",
    "\n",
    "    # The pre existing text in the file is erased\n",
    "    f.truncate(0)\n",
    "\n",
    "    # the modified list is written into\n",
    "    # the file thereby replacing the old text\n",
    "    f.writelines(l)\n",
    "    f.close()\n",
    "    print(\"Text successfully replaced\")"
   ]
  },
  {
   "cell_type": "code",
   "execution_count": 11,
   "metadata": {},
   "outputs": [
    {
     "name": "stdout",
     "output_type": "stream",
     "text": [
      "enter text to be replaced:This is a placement assignment\n",
      "enter text that will replace:This is a screening assignment\n",
      "Text successfully replaced\n"
     ]
    }
   ],
   "source": [
    "filereplace()"
   ]
  },
  {
   "cell_type": "code",
   "execution_count": null,
   "metadata": {},
   "outputs": [],
   "source": []
  },
  {
   "cell_type": "code",
   "execution_count": null,
   "metadata": {},
   "outputs": [],
   "source": []
  },
  {
   "cell_type": "code",
   "execution_count": null,
   "metadata": {},
   "outputs": [],
   "source": []
  }
 ],
 "metadata": {
  "kernelspec": {
   "display_name": "Python 3",
   "language": "python",
   "name": "python3"
  },
  "language_info": {
   "codemirror_mode": {
    "name": "ipython",
    "version": 3
   },
   "file_extension": ".py",
   "mimetype": "text/x-python",
   "name": "python",
   "nbconvert_exporter": "python",
   "pygments_lexer": "ipython3",
   "version": "3.7.4"
  }
 },
 "nbformat": 4,
 "nbformat_minor": 2
}
