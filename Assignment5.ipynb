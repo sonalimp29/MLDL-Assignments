{
 "cells": [
  {
   "cell_type": "code",
   "execution_count": null,
   "metadata": {},
   "outputs": [],
   "source": [
    "1."
   ]
  },
  {
   "cell_type": "code",
   "execution_count": 1,
   "metadata": {},
   "outputs": [
    {
     "name": "stdout",
     "output_type": "stream",
     "text": [
      "Why on earth you are dividing a number by ZERO!!\n"
     ]
    }
   ],
   "source": [
    "def divide():\n",
    "    return 5/0\n",
    "\n",
    "try:\n",
    "    divide()\n",
    "except ZeroDivisionError as ze:\n",
    "    print(\"Why on earth you are dividing a number by ZERO!!\")\n",
    "except:\n",
    "    print(\"Any other exception\")"
   ]
  },
  {
   "cell_type": "code",
   "execution_count": null,
   "metadata": {},
   "outputs": [],
   "source": [
    "2."
   ]
  },
  {
   "cell_type": "code",
   "execution_count": 2,
   "metadata": {},
   "outputs": [
    {
     "name": "stdout",
     "output_type": "stream",
     "text": [
      "Americans play Basketball\n",
      "Americans play Cricket\n",
      "Americans watch Basketball\n",
      "Americans watch Cricket\n",
      "Indians play Basketball\n",
      "Indians play Cricket\n",
      "Indians watch Basketball\n",
      "Indians watch Cricket\n"
     ]
    }
   ],
   "source": [
    "Subject = ['Americans', 'Indians']\n",
    "Verb = ['play', 'watch']\n",
    "Object = ['Basketball', 'Cricket']\n",
    "\n",
    "All_sentences = [(sub +\" \"+ ver +\" \"+ obj) for sub in Subject for ver in Verb for obj in Object]\n",
    "for sentence in All_sentences:\n",
    "    print(sentence)"
   ]
  }
 ],
 "metadata": {
  "kernelspec": {
   "display_name": "Python 3",
   "language": "python",
   "name": "python3"
  },
  "language_info": {
   "codemirror_mode": {
    "name": "ipython",
    "version": 3
   },
   "file_extension": ".py",
   "mimetype": "text/x-python",
   "name": "python",
   "nbconvert_exporter": "python",
   "pygments_lexer": "ipython3",
   "version": "3.7.4"
  }
 },
 "nbformat": 4,
 "nbformat_minor": 2
}
